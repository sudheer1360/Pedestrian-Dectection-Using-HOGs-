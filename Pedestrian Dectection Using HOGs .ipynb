{
 "cells": [
  {
   "cell_type": "code",
   "execution_count": 1,
   "id": "5e72cf93",
   "metadata": {},
   "outputs": [],
   "source": [
    "import cv2\n",
    "from imutils.object_detection import non_max_suppression\n",
    "from imutils import resize\n",
    "import numpy as np"
   ]
  },
  {
   "cell_type": "code",
   "execution_count": 2,
   "id": "8dd3ea31",
   "metadata": {},
   "outputs": [],
   "source": [
    "hog = cv2.HOGDescriptor()\n",
    "hog.setSVMDetector(cv2.HOGDescriptor_getDefaultPeopleDetector())"
   ]
  },
  {
   "cell_type": "code",
   "execution_count": 5,
   "id": "4a654f29",
   "metadata": {
    "scrolled": true
   },
   "outputs": [],
   "source": [
    "img = cv2.imread(\"C:/Users/Sudheer/Desktop/1.jpg\")\n",
    "img = resize(img,height=500)"
   ]
  },
  {
   "cell_type": "code",
   "execution_count": 6,
   "id": "a558bced",
   "metadata": {},
   "outputs": [],
   "source": [
    "rects,weights = hog.detectMultiScale(img,winStride=(4,4),padding=(8,8),scale=1.05)"
   ]
  },
  {
   "cell_type": "code",
   "execution_count": 7,
   "id": "70ff1a13",
   "metadata": {},
   "outputs": [],
   "source": [
    "copy = img.copy()\n",
    "for x,y,w,h in rects:\n",
    "    cv2.rectangle(copy,(x,y),(x+w,y+h),(0,0,255),2)"
   ]
  },
  {
   "cell_type": "code",
   "execution_count": 8,
   "id": "015b1961",
   "metadata": {},
   "outputs": [
    {
     "data": {
      "text/plain": [
       "-1"
      ]
     },
     "execution_count": 8,
     "metadata": {},
     "output_type": "execute_result"
    }
   ],
   "source": [
    "cv2.imshow('before suppression',copy)\n",
    "cv2.waitKey(0)"
   ]
  },
  {
   "cell_type": "code",
   "execution_count": 9,
   "id": "bd8bd7a6",
   "metadata": {},
   "outputs": [],
   "source": [
    "r = np.array([[x,y,x+w,y+h] for x,y,w,h in rects])\n",
    "pick = non_max_suppression(r,probs=None,overlapThresh=0.65)"
   ]
  },
  {
   "cell_type": "code",
   "execution_count": 10,
   "id": "1317dd93",
   "metadata": {},
   "outputs": [],
   "source": [
    "for xa,ya,xb,yb in pick:\n",
    "    cv2.rectangle(img,(xa,ya),(xb,yb),(0,255,0),2)\n"
   ]
  },
  {
   "cell_type": "code",
   "execution_count": 11,
   "id": "ddf21a55",
   "metadata": {},
   "outputs": [
    {
     "data": {
      "text/plain": [
       "-1"
      ]
     },
     "execution_count": 11,
     "metadata": {},
     "output_type": "execute_result"
    }
   ],
   "source": [
    "cv2.imshow('after suppression',img)\n",
    "cv2.waitKey(0)"
   ]
  },
  {
   "cell_type": "code",
   "execution_count": 13,
   "id": "ecdf7a23",
   "metadata": {},
   "outputs": [],
   "source": [
    "cv2.destroyAllWindows()\n"
   ]
  },
  {
   "cell_type": "code",
   "execution_count": null,
   "id": "b9c0a315",
   "metadata": {},
   "outputs": [],
   "source": []
  }
 ],
 "metadata": {
  "kernelspec": {
   "display_name": "Python 3 (ipykernel)",
   "language": "python",
   "name": "python3"
  },
  "language_info": {
   "codemirror_mode": {
    "name": "ipython",
    "version": 3
   },
   "file_extension": ".py",
   "mimetype": "text/x-python",
   "name": "python",
   "nbconvert_exporter": "python",
   "pygments_lexer": "ipython3",
   "version": "3.10.9"
  }
 },
 "nbformat": 4,
 "nbformat_minor": 5
}
